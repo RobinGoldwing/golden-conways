{
 "cells": [
  {
   "cell_type": "code",
   "execution_count": 11,
   "metadata": {
    "id": "xrlC_iESQKiq"
   },
   "outputs": [
    {
     "ename": "ModuleNotFoundError",
     "evalue": "No module named 'google'",
     "output_type": "error",
     "traceback": [
      "\u001b[0;31m---------------------------------------------------------------------------\u001b[0m",
      "\u001b[0;31mModuleNotFoundError\u001b[0m                       Traceback (most recent call last)",
      "Input \u001b[0;32mIn [11]\u001b[0m, in \u001b[0;36m<cell line: 3>\u001b[0;34m()\u001b[0m\n\u001b[1;32m      1\u001b[0m \u001b[38;5;66;03m# código dependiente de la plataforma (Google Colab)\u001b[39;00m\n\u001b[0;32m----> 3\u001b[0m \u001b[38;5;28;01mfrom\u001b[39;00m \u001b[38;5;21;01mgoogle\u001b[39;00m\u001b[38;5;21;01m.\u001b[39;00m\u001b[38;5;21;01mcolab\u001b[39;00m \u001b[38;5;28;01mimport\u001b[39;00m output\n\u001b[1;32m      4\u001b[0m output\u001b[38;5;241m.\u001b[39menable_custom_widget_manager()\n",
      "\u001b[0;31mModuleNotFoundError\u001b[0m: No module named 'google'"
     ]
    }
   ],
   "source": [
    "# código dependiente de la plataforma (Google Colab)\n",
    "\n",
    "from google.colab import output\n",
    "output.enable_custom_widget_manager()\n"
   ]
  },
  {
   "cell_type": "code",
   "execution_count": null,
   "metadata": {
    "colab": {
     "base_uri": "https://localhost:8080/"
    },
    "executionInfo": {
     "elapsed": 20605,
     "status": "ok",
     "timestamp": 1669747761424,
     "user": {
      "displayName": "Juan Francisco Puentes Calvo",
      "userId": "04307711343502565257"
     },
     "user_tz": -60
    },
    "id": "2JGZQANIQU-n",
    "outputId": "18f319b9-9c68-4c18-c62f-908fe6ccccb5"
   },
   "outputs": [],
   "source": [
    "# instalamos el paquete que nos permite trabajar con canvas en los notebooks.\n",
    "# sólo es necesario en Google Colab y sólo una vez, al inicio de la sesión\n",
    "\n",
    "!pip install -q ipycanvas==0.11\n",
    "\n",
    "!pip install -q ipyevents"
   ]
  },
  {
   "cell_type": "code",
   "execution_count": 1,
   "metadata": {
    "id": "HhRqN0YkQBC2"
   },
   "outputs": [],
   "source": [
    "from ipycanvas  import Canvas;\n",
    "from ipywidgets import Image;\n",
    "\n",
    "import random;\n",
    "import ipycanvas;\n",
    "import ipyevents;\n",
    "import operator;\n",
    "\n",
    "from time import sleep;\n",
    "\n",
    "def printBoard(canvas, cols, rows, board=None, lines=True, epoch=None):\n",
    "    assert type(cols)==int;\n",
    "    assert type(rows)==int;\n",
    "    with ipycanvas.hold_canvas(canvas):\n",
    "         width=canvas.width;\n",
    "         height=canvas.height;\n",
    "         offset=20;\n",
    "\n",
    "         canvas.clear();\n",
    "         canvas.line_width=1;\n",
    "         canvas.fill_style=\"#885555\";\n",
    "         canvas.stroke_rect(0,0,width-1,height-1);\n",
    "\n",
    "         ix=width/float(cols);\n",
    "         if lines:\n",
    "            for i in range(cols):\n",
    "                canvas.stroke_line(i*ix,offset,i*ix,height-1);\n",
    "\n",
    "         iy=(height-offset)/float(rows);\n",
    "         if lines:\n",
    "            for j in range(rows):\n",
    "                canvas.stroke_line(0,offset+j*iy,width-1,offset+j*iy);\n",
    "\n",
    "         if epoch!=None:\n",
    "            canvas.font = '12px serif';\n",
    "            canvas.fill_text('generación {}'.format(epoch), 10, 13);\n",
    "\n",
    "         if board!=None:\n",
    "            for i in range(cols):\n",
    "                for j in range(rows):\n",
    "                    if board[j][i]:\n",
    "                       canvas.fill_rect(i*ix,offset+j*iy,ix,iy);\n",
    "\n",
    "         canvas.flush();              \n",
    "\n",
    "def fillBoard(board, cols, rows, cell=False):\n",
    "    for i in range(cols):\n",
    "        for j in range(rows):\n",
    "            board[j][i]=cell;\n",
    "\n",
    "def copyBoard(source, target, cols, rows):\n",
    "    for i in range(cols):\n",
    "        for j in range(rows):\n",
    "            target[j][i]=source[j][i];\n",
    "\n",
    "def neighborhood(i,j,cols,rows):\n",
    "    neig=[\n",
    "          list(map(operator.add, (i,j), (-1,-1))),\n",
    "          list(map(operator.add, (i,j), ( 0,-1))),\n",
    "          list(map(operator.add, (i,j), (+1,-1))),\n",
    "          list(map(operator.add, (i,j), (-1, 0))),\n",
    "          list(map(operator.add, (i,j), (+1, 0))),\n",
    "          list(map(operator.add, (i,j), (-1,+1))),\n",
    "          list(map(operator.add, (i,j), ( 0,+1))),\n",
    "          list(map(operator.add, (i,j), (+1,+1)))\n",
    "         ];\n",
    "\n",
    "    for q in neig:\n",
    "        if not q[0] in range(0,cols):\n",
    "           if   q[0]>=cols: q[0]=q[0]-cols;\n",
    "           elif q[0]< 0:    q[0]=q[0]+cols;\n",
    "        if not q[1] in range(0,rows):\n",
    "           if   q[1]>=rows: q[1]=q[1]-rows;\n",
    "           elif q[1]< 0:    q[1]=q[1]+rows;       \n",
    "\n",
    "    return neig;\n",
    "\n",
    "def countAlive(board, cols, rows):\n",
    "    c=0;\n",
    "    for i in range(cols):\n",
    "        for j in range(rows):\n",
    "            if board[j][i]: c+=1;\n",
    "    return c;\n",
    "\n",
    "def countDeadNeighbours(board, neighborhood):\n",
    "    c=0;\n",
    "    for q in neighborhood:\n",
    "        if not board[q[1]][q[0]]: c=c+1;\n",
    "    return c;\n",
    "\n",
    "def countLiveNeighbours(board, neighborhood):\n",
    "    c=0;\n",
    "    for q in neighborhood:\n",
    "        if board[q[1]][q[0]]: c=c+1;\n",
    "    return c;\n"
   ]
  },
  {
   "cell_type": "code",
   "execution_count": 2,
   "metadata": {
    "id": "MDgzfg7Vf4gl"
   },
   "outputs": [],
   "source": [
    "# valores iniciales del juego\n",
    "\n",
    "WIDTH=800;\n",
    "HEIGHT=400+20;\n",
    "\n",
    "COLS=80;\n",
    "ROWS=40;\n"
   ]
  },
  {
   "cell_type": "code",
   "execution_count": 4,
   "metadata": {
    "colab": {
     "base_uri": "https://localhost:8080/",
     "height": 442,
     "referenced_widgets": [
      "59068ef3e6124794b158257949a837a8",
      "9286c275e3ea427fa0dbc4a30254d1a3"
     ]
    },
    "id": "4kU0YxIXQu-Z",
    "outputId": "87dd6451-4b30-4406-9661-b8792301e639"
   },
   "outputs": [
    {
     "data": {
      "application/vnd.jupyter.widget-view+json": {
       "model_id": "5b8572e387434b74845b8ecee669f7b4",
       "version_major": 2,
       "version_minor": 0
      },
      "text/plain": [
       "Canvas(height=420, width=800)"
      ]
     },
     "metadata": {},
     "output_type": "display_data"
    }
   ],
   "source": [
    "fBoard=[[0 for j in range(COLS)] for i in range(ROWS)];\n",
    "bBoard=[[0 for j in range(COLS)] for i in range(ROWS)];\n",
    "\n",
    "canvas=Canvas(width=WIDTH, height=HEIGHT);\n",
    "display(canvas);\n",
    "\n",
    "for k in range(int((COLS*ROWS)*0.25)):\n",
    "    row=random.randrange(0,ROWS);\n",
    "    col=random.randrange(0,COLS);\n",
    "    fBoard[row][col]=True;\n",
    "\n",
    "epoch=0\n",
    "try:\n",
    "    while countAlive(fBoard, COLS, ROWS)>0:\n",
    "        epoch+=1\n",
    "        fillBoard(bBoard,CLOS,ROWS,False)\n",
    "        ...\n",
    "        copyBoards(bBoard,fBoard,CLOS,ROWS)\n",
    "        printBoard(canvas,COLS,ROWS,fBoard,True,epoch)\n",
    "        sleep(0.25)\n",
    "        \n",
    "except KeyboardInterrupt:\n",
    "    print(f\"Finalizado en el epoch {epoch}\")\n",
    "    \n",
    "    \n",
    "# printBoard(canvas, COLS, ROWS, fBoard, True, 0);"
   ]
  },
  {
   "cell_type": "code",
   "execution_count": null,
   "metadata": {},
   "outputs": [],
   "source": []
  }
 ],
 "metadata": {
  "colab": {
   "authorship_tag": "ABX9TyMtb/wv7peaUKIxlLfy716w",
   "provenance": []
  },
  "kernelspec": {
   "display_name": "Python 3 (ipykernel)",
   "language": "python",
   "name": "python3"
  },
  "language_info": {
   "codemirror_mode": {
    "name": "ipython",
    "version": 3
   },
   "file_extension": ".py",
   "mimetype": "text/x-python",
   "name": "python",
   "nbconvert_exporter": "python",
   "pygments_lexer": "ipython3",
   "version": "3.8.13"
  },
  "widgets": {
   "application/vnd.jupyter.widget-state+json": {
    "59068ef3e6124794b158257949a837a8": {
     "model_module": "ipycanvas",
     "model_module_version": "^0.11.0",
     "model_name": "CanvasModel",
     "state": {
      "_dom_classes": [],
      "_model_module": "ipycanvas",
      "_model_module_version": "^0.11.0",
      "_model_name": "CanvasModel",
      "_send_client_ready_event": true,
      "_view_count": null,
      "_view_module": "ipycanvas",
      "_view_module_version": "^0.11.0",
      "_view_name": "CanvasView",
      "height": 420,
      "image_data": null,
      "layout": "IPY_MODEL_9286c275e3ea427fa0dbc4a30254d1a3",
      "sync_image_data": false,
      "width": 800
     }
    },
    "9286c275e3ea427fa0dbc4a30254d1a3": {
     "model_module": "@jupyter-widgets/base",
     "model_module_version": "1.2.0",
     "model_name": "LayoutModel",
     "state": {
      "_model_module": "@jupyter-widgets/base",
      "_model_module_version": "1.2.0",
      "_model_name": "LayoutModel",
      "_view_count": null,
      "_view_module": "@jupyter-widgets/base",
      "_view_module_version": "1.2.0",
      "_view_name": "LayoutView",
      "align_content": null,
      "align_items": null,
      "align_self": null,
      "border": null,
      "bottom": null,
      "display": null,
      "flex": null,
      "flex_flow": null,
      "grid_area": null,
      "grid_auto_columns": null,
      "grid_auto_flow": null,
      "grid_auto_rows": null,
      "grid_column": null,
      "grid_gap": null,
      "grid_row": null,
      "grid_template_areas": null,
      "grid_template_columns": null,
      "grid_template_rows": null,
      "height": null,
      "justify_content": null,
      "justify_items": null,
      "left": null,
      "margin": null,
      "max_height": null,
      "max_width": null,
      "min_height": null,
      "min_width": null,
      "object_fit": null,
      "object_position": null,
      "order": null,
      "overflow": null,
      "overflow_x": null,
      "overflow_y": null,
      "padding": null,
      "right": null,
      "top": null,
      "visibility": null,
      "width": null
     }
    }
   }
  }
 },
 "nbformat": 4,
 "nbformat_minor": 4
}
